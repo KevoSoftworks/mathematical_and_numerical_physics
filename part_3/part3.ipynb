{
 "metadata": {
  "language_info": {
   "codemirror_mode": {
    "name": "ipython",
    "version": 3
   },
   "file_extension": ".py",
   "mimetype": "text/x-python",
   "name": "python",
   "nbconvert_exporter": "python",
   "pygments_lexer": "ipython3",
   "version": "3.9.1-final"
  },
  "orig_nbformat": 2,
  "kernelspec": {
   "name": "python3",
   "display_name": "Python 3",
   "language": "python"
  }
 },
 "nbformat": 4,
 "nbformat_minor": 2,
 "cells": [
  {
   "source": [
    "%reload_ext autoreload\n",
    "%autoreload 2\n",
    "\n",
    "from IPython.display import display, Math\n",
    "\n",
    "import numpy as np\n",
    "from scipy.stats import ortho_group\n",
    "\n",
    "from part3 import *"
   ],
   "cell_type": "code",
   "metadata": {},
   "execution_count": 1,
   "outputs": []
  },
  {
   "source": [
    "## Mathematical and Numerical Physics\n",
    "### Numerical part 3\n",
    "#### Kevin Vonk, s1706896, _Jan 2021_"
   ],
   "cell_type": "markdown",
   "metadata": {}
  },
  {
   "source": [
    "## General part\n",
    "### Question 1\n",
    "#### a.\n",
    "\n",
    "The summation term in eq. (1) of the assignment has the same form as an element-wise matrix multiplication, but the indices are off. The general form of matrix multiplication $\\boldsymbol{C} = \\boldsymbol{A}\\boldsymbol{B}$ is (using the same indices as eq. (1) of the assignment),\n",
    "\\begin{align*}\n",
    "    c_{jk} = \\sum_{i=1}^n a_{ji}b_{ik}.\n",
    "\\end{align*}\n",
    "From this we see that the summation index is the column index of the first operand and the row index of the second operand. We can achieve this form in eq. (1) of the assignment by transposing the first operand,\n",
    "\\begin{align*}\n",
    "U_{ij} = U^T_{ji} = u'_{ji}.\n",
    "\\end{align*}\n",
    "So,\n",
    "\\begin{align*}\n",
    "    \\sum_{i=1}^N u'_{ji}u_{ik} = c_{jk} = \\delta_{jk}.\n",
    "\\end{align*}\n",
    "From the delta we can deduce that when the indices $j$ and $k$ are equal, $c_{jk} = 1$. Otherwise, it is zero. These indices are only equal on the diagonal, so $\\boldsymbol{C} = \\boldsymbol{I}$. Changing from element-wise to general matrix products, we can write the final expression as,\n",
    "\\begin{align*}\n",
    "    \\boldsymbol{U}^T\\boldsymbol{U} = \\boldsymbol{I},\n",
    "\\end{align*}\n",
    "which proves the equivalence.\n",
    "\n",
    "# TODO: Prove UU^T = I and statement"
   ],
   "cell_type": "markdown",
   "metadata": {}
  },
  {
   "source": [
    "#### b.\n",
    "The results and code generating the results are found below."
   ],
   "cell_type": "markdown",
   "metadata": {}
  },
  {
   "cell_type": "code",
   "execution_count": 2,
   "metadata": {},
   "outputs": [
    {
     "output_type": "display_data",
     "data": {
      "text/plain": "<IPython.core.display.Math object>",
      "text/latex": "$\\displaystyle \\boldsymbol{U} = \\begin{bmatrix}0.24&0.96&0.12\\\\-0.79&0.12&0.6&\\\\-0.56&0.24&-0.79\\end{bmatrix}$"
     },
     "metadata": {}
    },
    {
     "output_type": "display_data",
     "data": {
      "text/plain": "<IPython.core.display.Math object>",
      "text/latex": "$\\displaystyle \\text{Python reports:}\\quad\\boldsymbol{U}\\boldsymbol{U}^T = \\boldsymbol{U}^T\\boldsymbol{U} = \\boldsymbol{I}.$"
     },
     "metadata": {}
    }
   ],
   "source": [
    "dim = 3\n",
    "\n",
    "U = ortho_group.rvs(dim)\n",
    "I = np.identity(dim)\n",
    "\n",
    "display(Math(r\"\\boldsymbol{U} = \" + to_latex(U, 2)))\n",
    "\n",
    "# Use np.allclose() to ignore IEEE 754 floating point rounding errors.\n",
    "if np.allclose(U @ U.T, I) and np.allclose(U.T @ U, I):\n",
    "    display(Math(r\"\\text{Python reports:}\\quad\\boldsymbol{U}\\boldsymbol{U}^T = \\boldsymbol{U}^T\\boldsymbol{U} = \\boldsymbol{I}.\"))\n",
    "else:\n",
    "    print(\"The statements i) and ii) do not hold.\")\n"
   ]
  },
  {
   "source": [
    "#### c.\n",
    "Firstly, lets prove symmetry. Starting of with the expression for $\\boldsymbol{B}$,\n",
    "\\begin{align*}\n",
    "    \\boldsymbol{B} &= \\boldsymbol{U}^T \\boldsymbol{A} \\boldsymbol{U} \\\\\n",
    "    \\boldsymbol{B}^T &= (\\boldsymbol{U}^T \\boldsymbol{A} \\boldsymbol{U})^T = \\boldsymbol{U}^T \\boldsymbol{A}^T \\boldsymbol{U} = \\boldsymbol{U}^T \\boldsymbol{A} \\boldsymbol{U} \\\\\n",
    "    &\\rightarrow \\boldsymbol{B}^T = \\boldsymbol{B}.\n",
    "\\end{align*}\n",
    "\n",
    "So, $\\boldsymbol{B}$ is symmetric. Next, for the eigenvalues,\n",
    "\\begin{align*}\n",
    "    \\det(B) &= \\det(U^T A U) = \\det(U^T)\\det(A)\\det(U) \\\\\n",
    "    &= \\det(U^T)\\det(U)\\det(A) = \\det(U^T U)\\det(A) \\\\\n",
    "    &= \\det(I)\\det(A) \\\\\n",
    "    &= \\det(A).\n",
    "\\end{align*}\n",
    "And hence, by virtue of their determinants being identical, the eigenvalues $\\lambda$ of $\\boldsymbol{B}$ (determined by $\\det(B - \\lambda I) = 0$) will be identical too."
   ],
   "cell_type": "markdown",
   "metadata": {}
  },
  {
   "source": [
    "#### d."
   ],
   "cell_type": "markdown",
   "metadata": {}
  },
  {
   "cell_type": "code",
   "execution_count": 36,
   "metadata": {},
   "outputs": [
    {
     "output_type": "display_data",
     "data": {
      "text/plain": "<IPython.core.display.Math object>",
      "text/latex": "$\\displaystyle \\text{Eigenvalues of}\\; \\boldsymbol{B} = \\begin{pmatrix}3.\\\\2.\\\\1.\\end{pmatrix}$"
     },
     "metadata": {}
    },
    {
     "output_type": "display_data",
     "data": {
      "text/plain": "<IPython.core.display.Math object>",
      "text/latex": "$\\displaystyle \\text{Eigenvectors of}\\; \\boldsymbol{B} = \\begin{pmatrix}-0.56\\\\0.24\\\\-0.79\\end{pmatrix},\\begin{pmatrix}0.79\\\\-0.12\\\\-0.6\\end{pmatrix},\\begin{pmatrix}0.24\\\\0.96\\\\0.12\\end{pmatrix}$"
     },
     "metadata": {}
    }
   ],
   "source": [
    "A = np.diag([1, 2, 3])\n",
    "B = U.T @ A @ U\n",
    "\n",
    "valB, vecB = np.linalg.eig(B)\n",
    "\n",
    "vecs = \",\".join([to_latex(vecB[:, i].reshape((3,1)), 2, \"pmatrix\") for i in range(len(valB))])\n",
    "\n",
    "display(Math(r\"\\text{Eigenvalues of}\\; \\boldsymbol{B} = \" + to_latex(valB.reshape((3,1)), 0, \"pmatrix\")))\n",
    "display(Math(r\"\\text{Eigenvectors of}\\; \\boldsymbol{B} = \" + vecs))"
   ]
  },
  {
   "source": [
    "What we can see from the results is that the eigenvalues of $\\boldsymbol{A}$ and $\\boldsymbol{B}$ are identical. Additionally, the eigenvalues that have been found are the same values found on the diagonal of $\\boldsymbol{A}$ (which makes sense, as all the off-diagonal components are zero). Lastly, the eigenvectors of $\\boldsymbol{B}$ are rows of the $\\boldsymbol{U}$ matrix. In this case the first eigenvector is the last row in $\\boldsymbol{U}$, and the last eigenvalue is the first row, etc. It seems that the ordering of this is related to the location of the eigenvalue in the original matrix $\\boldsymbol{A}$, i.e. the first eigenvalue of $\\boldsymbol{A}$ is $1$, which is the last eigenvalue of $\\boldsymbol{B}$, so the corresponding last eigenvector of $\\boldsymbol{B}$ corresponds to the first row in $\\boldsymbol{U}$. However, this might just be an accidental occurence. This should be investigated more before we can call a decisive verdict."
   ],
   "cell_type": "markdown",
   "metadata": {}
  },
  {
   "source": [
    "### Question 2\n",
    "#### a."
   ],
   "cell_type": "markdown",
   "metadata": {}
  }
 ]
}